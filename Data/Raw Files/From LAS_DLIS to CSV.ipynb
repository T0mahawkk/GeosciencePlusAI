{
 "cells": [
  {
   "cell_type": "markdown",
   "id": "f84b69e9-00c6-4ca9-8156-320cc2b11841",
   "metadata": {},
   "source": [
    "created by **Farah Rabie** (fr2007@hw.ac.uk)"
   ]
  },
  {
   "cell_type": "markdown",
   "id": "3855a42a-bf38-47f9-9340-e0cb10664d08",
   "metadata": {},
   "source": [
    "#### How to convert well log files to CSV format?"
   ]
  },
  {
   "cell_type": "markdown",
   "id": "8e98bd1d-f2f1-4269-9470-4327180184c8",
   "metadata": {},
   "source": [
    "This notebook focuses on converting well log data from industry-standard formats, such as LAS and DLIS, into a more accessible CSV format. This conversion enables easier data analysis, visualisation, and integration into machine learning workflows. We utilise the <code>ToCSVFileFormat</code> class, which provides a streamlined way to handle these file conversions effectively."
   ]
  },
  {
   "cell_type": "markdown",
   "id": "1ca2680c-6b36-4f25-9978-01793ace91fd",
   "metadata": {},
   "source": [
    "The <code>ToCSVFileFormat</code> class is imported from the <code>convert_file_format</code> module, which provides functionality to convert files (e.g., LAS, DLIS) into CSV format. We then create an instance of the ToCSVFileFormat class using <code>converter = ToCSVFileFormat()</code>. This instance allows us to call its methods, such as _las_to_csv_ or _dlis_to_csv_, to handle file conversions seamlessly."
   ]
  },
  {
   "cell_type": "code",
   "execution_count": 1,
   "id": "9a554817-4e1f-4447-beac-78bb2c3a969f",
   "metadata": {},
   "outputs": [],
   "source": [
    "from convert_file_format import ToCSVFileFormat\n",
    "converter = ToCSVFileFormat()"
   ]
  },
  {
   "cell_type": "markdown",
   "id": "6e6be6da-e808-4a70-9dfe-8c75b394a54a",
   "metadata": {},
   "source": [
    "LAS (Log ASCII Standard) files are commonly used in the oil and gas industry for storing well log data, and converting them to CSV allows for easier analysis and integration with data science workflows. We utilise the _lasio_ library to handle the LAS file format efficiently."
   ]
  },
  {
   "cell_type": "code",
   "execution_count": 2,
   "id": "1f1e5773-4d7b-4c49-9821-2283c68320d6",
   "metadata": {},
   "outputs": [
    {
     "name": "stdout",
     "output_type": "stream",
     "text": [
      "CSV file created at: 15_9-F-12_input.csv\n"
     ]
    }
   ],
   "source": [
    "# Example 1: Extract data from a LAS file and save it in a CSV format\n",
    "converter.las_to_csv(\"15_9-F-12_input.las\", \"15_9-F-12_input.csv\")\n",
    "## or: if in a different folder, try r\".\\Updated Data\\15_9-F-12_input.las\" instead"
   ]
  },
  {
   "cell_type": "markdown",
   "id": "47fb1211-174d-430b-a80f-cff299309a1b",
   "metadata": {},
   "source": [
    "DLIS (Digital Log Interchange Standard) files store complex well log data and are typically more detailed than LAS files. By using the _dlisio_ library, we parse DLIS files, extract relevant data, and save it in a structured CSV format for further analysis or visualisation."
   ]
  },
  {
   "cell_type": "code",
   "execution_count": 3,
   "id": "685e3099-954f-400c-92e3-4b740b433b71",
   "metadata": {},
   "outputs": [
    {
     "name": "stdout",
     "output_type": "stream",
     "text": [
      "CSV file created at: 15_9-F-4_input.csv\n"
     ]
    }
   ],
   "source": [
    "# Example 2: Convert a DLIS file to a CSV format\n",
    "converter.dlis_to_csv(\"15_9-F-4_input.dlis\", \"15_9-F-4_input.csv\")"
   ]
  }
 ],
 "metadata": {
  "kernelspec": {
   "display_name": "Python 3 (ipykernel)",
   "language": "python",
   "name": "python3"
  },
  "language_info": {
   "codemirror_mode": {
    "name": "ipython",
    "version": 3
   },
   "file_extension": ".py",
   "mimetype": "text/x-python",
   "name": "python",
   "nbconvert_exporter": "python",
   "pygments_lexer": "ipython3",
   "version": "3.8.1"
  }
 },
 "nbformat": 4,
 "nbformat_minor": 5
}
